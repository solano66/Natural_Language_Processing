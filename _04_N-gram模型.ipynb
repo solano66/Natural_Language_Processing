{
 "cells": [
  {
   "cell_type": "code",
   "execution_count": 3,
   "metadata": {},
   "outputs": [
    {
     "name": "stdout",
     "output_type": "stream",
     "text": [
      "('我', '喜歡')\n",
      "('喜歡', '閱讀')\n",
      "('閱讀', '書籍')\n",
      "('書籍', '，')\n",
      "('，', '也')\n",
      "('也', '喜歡')\n",
      "('喜歡', '使用')\n",
      "('使用', '電腦來')\n",
      "('電腦來', '學習')\n",
      "('學習', '新')\n",
      "('新', '的')\n",
      "('的', '知識')\n"
     ]
    }
   ],
   "source": [
    "import jieba\n",
    "\n",
    "def generate_ngrams(words, n):\n",
    "    ngrams = []\n",
    "\n",
    "    for i in range(len(words) - n + 1):\n",
    "        ngrams.append(tuple(words[i:i+n]))\n",
    "\n",
    "    return ngrams\n",
    "\n",
    "text = \"我喜歡閱讀書籍，也喜歡使用電腦來學習新的知識\"\n",
    "\n",
    "words = jieba.lcut(text)\n",
    "\n",
    "bigrams = generate_ngrams(words, 2)\n",
    "\n",
    "for bigram in bigrams:\n",
    "    print(bigram)"
   ]
  },
  {
   "cell_type": "code",
   "execution_count": 4,
   "metadata": {},
   "outputs": [
    {
     "name": "stdout",
     "output_type": "stream",
     "text": [
      "[('蘋果', 0.5), ('橘子', 0.5)]\n"
     ]
    }
   ],
   "source": [
    "tokens = ['我', '愛', '吃', '蘋果', '，', '我', '也', '愛', '吃', '橘子']\n",
    "\n",
    "ngram_dict = {}\n",
    "\n",
    "N = 2\n",
    "\n",
    "for i in range(len(tokens) - N):\n",
    "    ngram = tuple(tokens[i:i+N])\n",
    "    next_token = tokens[i+N]\n",
    "\n",
    "    if ngram not in ngram_dict:\n",
    "        ngram_dict[ngram] = {}\n",
    "    if next_token not in ngram_dict[ngram]:\n",
    "        ngram_dict[ngram][next_token] = 0\n",
    "    ngram_dict[ngram][next_token] += 1\n",
    "\n",
    "for ngram_0, next_nokens_0 in ngram_dict.items():\n",
    "    total_count = sum(next_nokens_0.values())\n",
    "    for next_token_1, count in next_nokens_0.items():\n",
    "        ngram_dict[ngram_0][next_token_1] = count / total_count\n",
    "\n",
    "ngram = ('愛', '吃')\n",
    "\n",
    "next_tokens_probs = ngram_dict[ngram]\n",
    "\n",
    "k = 2\n",
    "top_k_next_next_tokens = sorted(\n",
    "    next_tokens_probs.items(),\n",
    "    key=lambda x: x[1],\n",
    "    reverse=True\n",
    ")[:k]\n",
    "\n",
    "print(top_k_next_next_tokens)"
   ]
  }
 ],
 "metadata": {
  "kernelspec": {
   "display_name": "web_scraping",
   "language": "python",
   "name": "python3"
  },
  "language_info": {
   "codemirror_mode": {
    "name": "ipython",
    "version": 3
   },
   "file_extension": ".py",
   "mimetype": "text/x-python",
   "name": "python",
   "nbconvert_exporter": "python",
   "pygments_lexer": "ipython3",
   "version": "3.10.15"
  }
 },
 "nbformat": 4,
 "nbformat_minor": 2
}
