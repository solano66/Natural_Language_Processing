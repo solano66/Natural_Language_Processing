{
 "cells": [
  {
   "cell_type": "code",
   "execution_count": 3,
   "metadata": {},
   "outputs": [
    {
     "name": "stderr",
     "output_type": "stream",
     "text": [
      "Building prefix dict from the default dictionary ...\n",
      "Loading model from cache C:\\Users\\student\\AppData\\Local\\Temp\\jieba.cache\n"
     ]
    },
    {
     "name": "stderr",
     "output_type": "stream",
     "text": [
      "Loading model cost 0.545 seconds.\n",
      "Prefix dict has been built successfully.\n"
     ]
    }
   ],
   "source": [
    "from gensim.models import Doc2Vec\n",
    "from gensim.models.doc2vec import TaggedDocument\n",
    "import jieba\n",
    "\n",
    "# 一堆句子 (也可以是一篇文章)\n",
    "documents = []\n",
    "with open(\"./cases/bert_finetune/reviews.txt\", \"r\", encoding=\"utf-8\") as file:\n",
    "    for line in file:\n",
    "        document = line.split(\"\\t\")[0]\n",
    "        documents.append(document.replace('\"', ''))\n",
    "\n",
    "docs = [jieba.lcut(doc) for doc in documents]\n",
    "\n",
    "docs = [TaggedDocument(doc, [index]) for index, doc in enumerate(docs)]\n",
    "\n",
    "model = Doc2Vec(\n",
    "    docs,\n",
    "    vector_size=100,\n",
    "    window=5,\n",
    "    min_count=1,\n",
    "    epochs=20\n",
    ")"
   ]
  },
  {
   "cell_type": "code",
   "execution_count": 5,
   "metadata": {},
   "outputs": [
    {
     "data": {
      "text/plain": [
       "array([-0.01187673,  0.05215134,  0.07241751,  0.12215028,  0.18834318,\n",
       "       -0.03468971,  0.09490183,  0.2160897 , -0.02956822, -0.15953   ,\n",
       "        0.09570143, -0.0081903 ,  0.10864466,  0.04210725,  0.06542062,\n",
       "       -0.10287745, -0.03771231,  0.08095637, -0.03809157, -0.14963399,\n",
       "       -0.03845891,  0.00165851,  0.3222618 , -0.20523535,  0.07989721,\n",
       "        0.00425378, -0.02997924,  0.04026507, -0.08095634, -0.00700624,\n",
       "        0.12268953, -0.00684522,  0.04250897, -0.1306291 , -0.13881956,\n",
       "        0.052238  ,  0.15492415, -0.02777982, -0.07956005,  0.18989415,\n",
       "        0.03483665,  0.02806916, -0.1411674 , -0.13978638,  0.05544704,\n",
       "       -0.14211287,  0.02042967,  0.05650209,  0.00557363,  0.21608056,\n",
       "       -0.03279454, -0.11722121, -0.20632339,  0.1646463 , -0.01212544,\n",
       "        0.21448062,  0.09048199,  0.17396715, -0.09044009,  0.10318891,\n",
       "       -0.04247361, -0.07605124, -0.01371672, -0.04163166,  0.07446398,\n",
       "       -0.0528062 , -0.04282995, -0.0063366 , -0.10924532,  0.05353743,\n",
       "       -0.07279829,  0.08050079,  0.13555636,  0.19473115,  0.11156913,\n",
       "        0.04280476, -0.02757703, -0.07079291, -0.00858401,  0.13060357,\n",
       "       -0.26079816, -0.03233608,  0.06187729, -0.00199355, -0.06856253,\n",
       "        0.02352161,  0.08006608, -0.03710306,  0.02687142,  0.10981458,\n",
       "       -0.08435468,  0.03346995, -0.1073754 , -0.25977275,  0.32666633,\n",
       "        0.12115578,  0.00378968, -0.13006759,  0.09235552, -0.31716776],\n",
       "      dtype=float32)"
      ]
     },
     "execution_count": 5,
     "metadata": {},
     "output_type": "execute_result"
    }
   ],
   "source": [
    "vector = model.dv[5]\n",
    "vector"
   ]
  },
  {
   "cell_type": "code",
   "execution_count": 9,
   "metadata": {},
   "outputs": [
    {
     "name": "stdout",
     "output_type": "stream",
     "text": [
      "總的來說，這樣的酒店配這樣的價格還算可以，希望他趕快裝修，給我的客人留些好的印象\n"
     ]
    },
    {
     "data": {
      "text/plain": [
       "['總',\n",
       " '的',\n",
       " '來',\n",
       " '說',\n",
       " '，',\n",
       " '這樣',\n",
       " '的',\n",
       " '酒店',\n",
       " '配',\n",
       " '這樣',\n",
       " '的',\n",
       " '價格',\n",
       " '還算',\n",
       " '可以',\n",
       " '，',\n",
       " '希望',\n",
       " '他',\n",
       " '趕快',\n",
       " '裝修',\n",
       " '，',\n",
       " '給我',\n",
       " '的',\n",
       " '客人',\n",
       " '留些',\n",
       " '好',\n",
       " '的',\n",
       " '印象']"
      ]
     },
     "execution_count": 9,
     "metadata": {},
     "output_type": "execute_result"
    }
   ],
   "source": [
    "print(documents[5])\n",
    "docs[5].words"
   ]
  },
  {
   "cell_type": "code",
   "execution_count": 11,
   "metadata": {},
   "outputs": [],
   "source": [
    "model.save('doc2vec.model')"
   ]
  },
  {
   "cell_type": "code",
   "execution_count": 13,
   "metadata": {},
   "outputs": [],
   "source": [
    "model = Doc2Vec.load('doc2vec.model')"
   ]
  },
  {
   "cell_type": "code",
   "execution_count": 16,
   "metadata": {},
   "outputs": [
    {
     "name": "stdout",
     "output_type": "stream",
     "text": [
      "總的來說，這樣的酒店配這樣的價格還算可以，希望他趕快裝修，給我的客人留些好的印象\n",
      "==================================================\n",
      "整體環境還可以，離亞龍灣比較近。但近期一直在裝修，一樓凌亂，給人感覺不太舒服。價格偏高。服務一般。\n",
      "0.7008055448532104\n",
      "==================================================\n",
      "以前我們的客人入住該酒店，一直對酒店印象不錯，但是這次\n",
      "0.6945673823356628\n",
      "==================================================\n",
      "客人說總體感覺還不錯下次來上海應該還會選擇這裡\n",
      "0.6763432025909424\n",
      "==================================================\n",
      "酒店環境還不錯，裝修也很好。早餐不怎麼樣，價格偏高。\n",
      "0.6671422123908997\n",
      "==================================================\n",
      "價效比差，酒店誠信更差，嘗試住了一次決定不會再住下一次賓館反饋2008年7月7日：客人原訂標準雙人間，到店後想改為大床房，此兩種房型存在價格上的差別，因溝通上的差異造成了雙方的誤解。我們對此客人表示抱歉和遺憾。\n",
      "0.6612651348114014\n",
      "==================================================\n",
      "房間小但很乾淨。入住時辦理手續的時間較長，退房辦手續時速度極快。總體基本滿意\n",
      "0.6460972428321838\n",
      "==================================================\n",
      "酒店雖然比較老但我入住的行政樓很好，房間大還配有電腦價格方面很有競爭力的\n",
      "0.6436774134635925\n",
      "==================================================\n",
      "看了大家的評價不錯，才選擇這家的。房間無論如何不能說是三星的標準，個人感覺不如如家佈置得溫馨。\n",
      "0.6365841627120972\n",
      "==================================================\n",
      "第二天下午退房的話，第二天房價算一半，這點很實惠。貴賓南樓標間260一天，算是還可以。一樓在裝修，有點吵。\n",
      "0.6364483833312988\n",
      "==================================================\n",
      "酒店還是不錯，不過攜程的價格還不夠好一點。\n",
      "0.6361579298973083\n"
     ]
    }
   ],
   "source": [
    "print(documents[5])\n",
    "\n",
    "similar_docs = model.dv.most_similar(5, topn=10)\n",
    "for doc_index , similarity in similar_docs:\n",
    "    print('=' * 50)\n",
    "    print(documents[doc_index])\n",
    "    print(similarity)"
   ]
  },
  {
   "cell_type": "code",
   "execution_count": 18,
   "metadata": {},
   "outputs": [
    {
     "name": "stdout",
     "output_type": "stream",
     "text": [
      "總的來說，這樣的酒店配這樣的價格還算可以，希望他趕快裝修，給我的客人留些好的印象\n",
      "價格適中，裝修還可以。早餐尚可。物有所值\n",
      "0.4791472\n"
     ]
    }
   ],
   "source": [
    "similarity = model.dv.similarity(5, 843)\n",
    "print(documents[5])\n",
    "print(documents[843])\n",
    "print(similarity)"
   ]
  }
 ],
 "metadata": {
  "kernelspec": {
   "display_name": "web_scraping",
   "language": "python",
   "name": "python3"
  },
  "language_info": {
   "codemirror_mode": {
    "name": "ipython",
    "version": 3
   },
   "file_extension": ".py",
   "mimetype": "text/x-python",
   "name": "python",
   "nbconvert_exporter": "python",
   "pygments_lexer": "ipython3",
   "version": "3.10.15"
  }
 },
 "nbformat": 4,
 "nbformat_minor": 2
}
